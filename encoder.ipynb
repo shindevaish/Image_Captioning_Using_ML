{
 "cells": [
  {
   "cell_type": "code",
   "execution_count": 1,
   "id": "c6b4d6c3-a73c-4f59-bc7b-b844fa30bd10",
   "metadata": {},
   "outputs": [],
   "source": [
    "import torch \n",
    "import torch.nn as nn\n",
    "import torchvision.models as models\n",
    "import torchvision.transforms as transforms\n",
    "from PIL import Image\n"
   ]
  },
  {
   "cell_type": "code",
   "execution_count": 14,
   "id": "b834084f",
   "metadata": {},
   "outputs": [],
   "source": [
    "class EncoderCNN(nn.Module):\n",
    "    def __init__(self,embed_size):\n",
    "        super(EncoderCNN,self).__init__()\n",
    "        resnet=models.resnet50(pretrained=True)\n",
    "        for parameters in resnet.parameters():\n",
    "            parameters.requires_grad_(False)\n",
    "        \n",
    "        modules=list(resnet.children())[:-1]\n",
    "        self.resnet=nn.Sequential(*modules)\n",
    "        self.embed=nn.Linear(resnet.fc.in_features,embed_size)\n",
    "\n",
    "    def forward(self,images):\n",
    "        features=self.resnet(images)\n",
    "        features=features.view(features.size(0),-1)\n",
    "        features=self.embed(features)\n",
    "        return features"
   ]
  },
  {
   "cell_type": "code",
   "execution_count": 15,
   "id": "4e3fe895",
   "metadata": {},
   "outputs": [],
   "source": [
    "path=\"IMG_20240603_143057.jpg\"\n",
    "image=Image.open(path).convert('RGB')\n",
    "\n",
    "preprocess=transforms.Compose([\n",
    "    transforms.Resize(256),\n",
    "    transforms.CenterCrop(224),\n",
    "    transforms.ToTensor(),\n",
    "    transforms.Normalize(mean=[0.485,0.456,0.406], std=[0.229,0.224,0.225]),\n",
    "])\n",
    "image_tensor=preprocess(image).unsqueeze(0)\n",
    "\n"
   ]
  },
  {
   "cell_type": "code",
   "execution_count": 16,
   "id": "be7b83d3",
   "metadata": {},
   "outputs": [
    {
     "name": "stdout",
     "output_type": "stream",
     "text": [
      "Output after 0:  torch.Size([1, 64, 112, 112])\n",
      "Output after 1:  torch.Size([1, 64, 112, 112])\n",
      "Output after 2:  torch.Size([1, 64, 112, 112])\n",
      "Output after 3:  torch.Size([1, 64, 56, 56])\n",
      "Output after 4:  torch.Size([1, 256, 56, 56])\n",
      "Output after 5:  torch.Size([1, 512, 28, 28])\n",
      "Output after 6:  torch.Size([1, 1024, 14, 14])\n",
      "Output after 7:  torch.Size([1, 2048, 7, 7])\n",
      "Output after 8:  torch.Size([1, 2048, 1, 1])\n",
      "Final feature vector shape: torch.Size([1, 256]) \n"
     ]
    }
   ],
   "source": [
    "size=256\n",
    "encoder=EncoderCNN(size)\n",
    "\n",
    "device=torch.device(\"cpu\")\n",
    "encoder.to(device)\n",
    "\n",
    "encoder.eval()\n",
    "\n",
    "image_tensor=image_tensor.to(device)\n",
    "\n",
    "output=image_tensor\n",
    "\n",
    "for name,module in encoder.resnet.named_children():\n",
    "    output=module(output)\n",
    "    print(f\"Output after {name}:  {output.shape}\")\n",
    "\n",
    "output=output.view(output.size(0), -1)\n",
    "output=encoder.embed(output)\n",
    "print(f\"Final feature vector shape: {output.shape} \")\n"
   ]
  },
  {
   "cell_type": "code",
   "execution_count": 17,
   "id": "e819239f",
   "metadata": {},
   "outputs": [
    {
     "name": "stdout",
     "output_type": "stream",
     "text": [
      "Embedding vector:  tensor([[-0.3779,  0.5733, -0.5492, -0.2237, -0.3551,  0.3335,  0.0900,  0.0774,\n",
      "          0.0672, -0.2696, -0.4487, -0.6492, -0.1582,  0.1932, -0.0279,  0.1868,\n",
      "          0.1633, -0.0349,  0.4709,  0.5265, -0.0363,  0.5123,  0.0569, -0.1499,\n",
      "          0.9710,  0.0807, -0.0119,  0.0489,  0.1893,  0.2421,  0.3596,  0.3336,\n",
      "          0.4300, -0.0028, -0.0322,  0.2212, -0.3928, -0.1116, -0.2976,  0.0805,\n",
      "          0.2259,  0.0778, -0.1085, -0.0791,  0.4387,  0.0132,  0.1238, -0.0898,\n",
      "          0.0500,  0.0041,  0.5562, -0.3675,  0.4827,  0.1344,  0.4219,  0.3893,\n",
      "         -0.3230,  0.2005, -0.3687, -0.0360,  0.1939,  0.2200,  0.9519,  0.1055,\n",
      "          0.4922,  0.5174, -0.0664,  0.4541,  0.0397,  0.0821,  0.0066, -0.0552,\n",
      "          0.1160,  0.0132, -0.0238,  0.1272, -0.1236, -0.0730,  0.0911, -0.0130,\n",
      "          0.1063,  0.0208, -0.1251,  0.0986, -0.3862, -0.0934, -0.2279,  0.0674,\n",
      "          0.0103,  0.2360,  0.6793,  0.2747,  0.0046,  0.3297, -0.2134, -0.0567,\n",
      "         -0.0379,  0.1872, -0.0328, -0.0098,  0.3745, -0.2504,  0.0265, -0.1873,\n",
      "          0.7536, -0.5201, -0.0788,  0.3795,  0.2377,  0.0208, -0.1896,  0.1287,\n",
      "          0.2553,  0.3710,  0.8698,  0.3598,  0.2532, -0.1240,  0.3327,  0.4945,\n",
      "          0.2853,  0.2592,  0.3537,  0.4696,  0.2396, -0.2947, -0.2458, -0.5051,\n",
      "         -0.2629,  0.1817,  0.2272,  0.1801, -0.7269, -0.4400, -0.5707,  0.4724,\n",
      "          0.4162,  0.0886,  0.4645,  0.2835,  0.4130,  0.2888, -0.1103,  0.3146,\n",
      "         -0.1071,  0.0318,  0.2616, -0.0093,  0.1766, -0.0672, -0.1452, -0.3003,\n",
      "         -0.1748, -0.2386,  0.1417, -0.5216,  0.3090, -0.5568,  0.1111, -0.4104,\n",
      "          0.3406, -0.0964,  0.3219, -0.2636,  0.5303,  0.3417, -0.0789,  0.3104,\n",
      "          0.5573,  0.0179,  0.0388,  0.1181,  0.3974, -0.4872,  0.7620, -0.0804,\n",
      "          0.2749,  0.2266,  0.3103,  0.4668,  0.4218, -0.1029, -0.5900,  0.2561,\n",
      "         -0.2171,  0.3473,  0.4934,  0.4094,  0.0646, -0.1371, -0.0029, -0.5446,\n",
      "          0.1820, -0.0480, -0.0597, -0.1562, -0.4970,  0.3208, -0.2171,  0.2997,\n",
      "         -0.3157, -0.1047,  0.0125, -0.1560, -0.0322, -0.1761, -0.4609,  0.0451,\n",
      "          0.0583, -0.0580, -0.2003,  0.1080,  0.2229, -0.0356, -0.0258, -0.4625,\n",
      "         -0.0400,  0.0010, -0.0133,  0.1377,  0.3673, -0.2422, -0.1590,  0.2489,\n",
      "          0.3575,  0.0570,  0.2148,  0.3472, -0.0169,  0.1977, -0.1031, -0.0086,\n",
      "          0.0784, -0.0571, -0.1448, -0.1341,  0.0625, -0.0494,  0.1923,  0.4349,\n",
      "          0.2244, -0.0016,  0.5381, -0.1302, -0.2182,  0.1011,  0.1710,  0.4004,\n",
      "          0.1108, -0.1875, -0.0775,  0.0427,  0.0476, -0.2279, -0.0770, -0.2870]],\n",
      "       grad_fn=<AddmmBackward0>)\n"
     ]
    }
   ],
   "source": [
    "print(\"Embedding vector: \",output)"
   ]
  },
  {
   "cell_type": "code",
   "execution_count": null,
   "id": "025ea66a",
   "metadata": {},
   "outputs": [],
   "source": [
    "image_tensor=image_tensor.to(device)\n",
    "\n",
    "output=image_tensor\n",
    "feature_maps=[]\n",
    "\n",
    "for name,module in encoder.resnet.named_children():\n",
    "    output=module(output)\n",
    "    if isinstance(output,torch.Tensor):\n",
    "        feature_maps.append(output.clone().detach())\n",
    "        \n",
    "num_features=feature_maps[0].shape[1]\n",
    "fig, axs =plt.subplots(8,8,figsize(16,16))\n",
    "\n",
    "for i in range(8):\n",
    "    for j in range(8):\n",
    "        feature_map=feature_maps[0][0,i*8+j].cpu().numpy()\n",
    "        axs[i,j].imshow(feature_map,cmap='viridis')\n",
    "        axs[i,j].axis('off')"
   ]
  }
 ],
 "metadata": {
  "kernelspec": {
   "display_name": "Python 3 (ipykernel)",
   "language": "python",
   "name": "python3"
  },
  "language_info": {
   "codemirror_mode": {
    "name": "ipython",
    "version": 3
   },
   "file_extension": ".py",
   "mimetype": "text/x-python",
   "name": "python",
   "nbconvert_exporter": "python",
   "pygments_lexer": "ipython3",
   "version": "3.10.9"
  }
 },
 "nbformat": 4,
 "nbformat_minor": 5
}
