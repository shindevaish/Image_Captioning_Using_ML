{
 "cells": [
  {
   "cell_type": "code",
   "execution_count": 2,
   "metadata": {},
   "outputs": [
    {
     "name": "stdout",
     "output_type": "stream",
     "text": [
      "The number of images in the folder is: 2000\n"
     ]
    }
   ],
   "source": [
    "import os\n",
    "\n",
    "def count_images_in_folder(folder_path):\n",
    "    # List of valid image extensions\n",
    "    valid_extensions = ('.png', '.jpg', '.jpeg', '.bmp', '.gif', '.tiff', '.webp')\n",
    "\n",
    "    # Get the list of files in the directory\n",
    "    files = os.listdir(folder_path)\n",
    "    \n",
    "    # Count the number of images\n",
    "    image_count = sum(1 for file in files if file.lower().endswith(valid_extensions))\n",
    "    \n",
    "    return image_count\n",
    "\n",
    "# Path to your image directory\n",
    "image_dir = './static/image'\n",
    "\n",
    "# Get the number of images\n",
    "num_images = count_images_in_folder(image_dir)\n",
    "\n",
    "print(f\"The number of images in the folder is: {num_images}\")\n"
   ]
  },
  {
   "cell_type": "code",
   "execution_count": 4,
   "metadata": {},
   "outputs": [],
   "source": [
    "import os\n",
    "from transformers import BlipProcessor, BlipForConditionalGeneration\n",
    "from PIL import Image\n",
    "import pandas as pd\n",
    "import torch\n",
    "from tqdm import tqdm\n",
    "\n",
    "# Initialize the model and processor\n",
    "processor = BlipProcessor.from_pretrained(\"Salesforce/blip-image-captioning-base\")\n",
    "model = BlipForConditionalGeneration.from_pretrained(\"Salesforce/blip-image-captioning-base\")\n"
   ]
  },
  {
   "cell_type": "code",
   "execution_count": 5,
   "metadata": {},
   "outputs": [
    {
     "name": "stderr",
     "output_type": "stream",
     "text": [
      "100%|██████████| 250/250 [1:56:18<00:00, 27.91s/it]"
     ]
    },
    {
     "name": "stdout",
     "output_type": "stream",
     "text": [
      "Captions saved to captions.csv\n"
     ]
    },
    {
     "name": "stderr",
     "output_type": "stream",
     "text": [
      "\n"
     ]
    }
   ],
   "source": [
    "device = torch.device(\"cpu\")\n",
    "model.to(device)\n",
    "\n",
    "image_dir = './static/image'\n",
    "batch_size = 8\n",
    "data = []\n",
    "\n",
    "# Function to process a batch of images\n",
    "def process_batch(image_paths):\n",
    "    images = [Image.open(image_path).convert(\"RGB\") for image_path in image_paths]\n",
    "    inputs = processor(images=images, return_tensors=\"pt\", padding=True)\n",
    "    inputs = {k: v.to(device) for k, v in inputs.items()}\n",
    "    out = model.generate(**inputs, max_new_tokens=20)\n",
    "    captions = processor.batch_decode(out, skip_special_tokens=True)\n",
    "    return captions\n",
    "\n",
    "# Get list of all image paths\n",
    "image_paths = [os.path.join(image_dir, img) for img in os.listdir(image_dir) if img.endswith(('.png', '.jpg', '.jpeg'))]\n",
    "\n",
    "# Process images in batches\n",
    "for i in tqdm(range(0, len(image_paths), batch_size)):\n",
    "    batch_paths = image_paths[i:i+batch_size]\n",
    "    captions = process_batch(batch_paths)\n",
    "    for img_path, caption in zip(batch_paths, captions):\n",
    "        image_id = os.path.basename(img_path)\n",
    "        data.append({'image_id': image_id, 'caption': caption})\n",
    "\n",
    "df = pd.DataFrame(data)\n",
    "\n",
    "csv_path = 'captions.csv'\n",
    "df.to_csv(csv_path, index=False)\n",
    "\n",
    "print(f\"Captions saved to {csv_path}\")\n"
   ]
  }
 ],
 "metadata": {
  "kernelspec": {
   "display_name": "myenv",
   "language": "python",
   "name": "python3"
  },
  "language_info": {
   "codemirror_mode": {
    "name": "ipython",
    "version": 3
   },
   "file_extension": ".py",
   "mimetype": "text/x-python",
   "name": "python",
   "nbconvert_exporter": "python",
   "pygments_lexer": "ipython3",
   "version": "3.10.9"
  }
 },
 "nbformat": 4,
 "nbformat_minor": 2
}
